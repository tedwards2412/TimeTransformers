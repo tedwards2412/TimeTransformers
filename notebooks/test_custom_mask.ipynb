{
 "cells": [
  {
   "cell_type": "code",
   "execution_count": 1,
   "metadata": {},
   "outputs": [],
   "source": [
    "import numpy as np\n",
    "import matplotlib.pyplot as plt\n",
    "import os\n",
    "from datetime import datetime\n",
    "from torch.utils.data import Dataset, DataLoader\n",
    "import torch\n",
    "from distutils.util import strtobool\n",
    "import random\n",
    "\n",
    "from scipy.stats import norm\n",
    "import torch.optim as optim\n",
    "import torch.nn as nn\n",
    "from tqdm import tqdm\n",
    "import pandas as pd\n",
    "import importlib\n",
    "\n",
    "# This is just until temporary implementation\n",
    "import os \n",
    "import sys\n",
    "cwd = os.getcwd()\n",
    "sys.path.insert(0,cwd + '/../timetransformers')\n",
    "\n",
    "import Transformer \n",
    "from utils import convert_tsf_to_dataframe\n",
    "\n",
    "%matplotlib inline\n",
    "%config InlineBackend.figure_format='retina'"
   ]
  },
  {
   "cell_type": "code",
   "execution_count": 2,
   "metadata": {},
   "outputs": [],
   "source": [
    "device = torch.device(\"cpu\")\n",
    "\n",
    "importlib.reload(Transformer)\n",
    "\n",
    "output_dim = 2  # To begin with we can use a Gaussian with mean and variance\n",
    "d_model = 32\n",
    "num_heads = 1\n",
    "num_layers = 2\n",
    "d_ff = 128\n",
    "dropout = 0.0\n",
    "\n",
    "max_seq_length = 10\n",
    "\n",
    "transformer = Transformer.Decoder_Transformer(\n",
    "    output_dim,\n",
    "    d_model,\n",
    "    num_heads,\n",
    "    num_layers,\n",
    "    d_ff,\n",
    "    max_seq_length,\n",
    "    dropout,\n",
    "    device=device,\n",
    ").to(device)"
   ]
  },
  {
   "cell_type": "code",
   "execution_count": 7,
   "metadata": {},
   "outputs": [
    {
     "name": "stdout",
     "output_type": "stream",
     "text": [
      "tensor([[[[False, False, False, False, False, False, False, False, False, False],\n",
      "          [False, False, False, False, False, False, False, False, False, False],\n",
      "          [False, False, False, False, False, False, False, False, False, False],\n",
      "          [False, False, False,  True, False, False, False, False, False, False],\n",
      "          [False, False, False,  True,  True, False, False, False, False, False],\n",
      "          [False, False, False,  True,  True,  True, False, False, False, False],\n",
      "          [False, False, False,  True,  True,  True,  True, False, False, False],\n",
      "          [False, False, False,  True,  True,  True,  True,  True, False, False],\n",
      "          [False, False, False,  True,  True,  True,  True,  True,  True, False],\n",
      "          [False, False, False,  True,  True,  True,  True,  True,  True,  True]]],\n",
      "\n",
      "\n",
      "        [[[ True, False, False, False, False, False, False, False, False, False],\n",
      "          [ True,  True, False, False, False, False, False, False, False, False],\n",
      "          [ True,  True,  True, False, False, False, False, False, False, False],\n",
      "          [ True,  True,  True,  True, False, False, False, False, False, False],\n",
      "          [ True,  True,  True,  True,  True, False, False, False, False, False],\n",
      "          [ True,  True,  True,  True,  True,  True, False, False, False, False],\n",
      "          [ True,  True,  True,  True,  True,  True,  True, False, False, False],\n",
      "          [ True,  True,  True,  True,  True,  True,  True,  True, False, False],\n",
      "          [ True,  True,  True,  True,  True,  True,  True,  True,  True, False],\n",
      "          [ True,  True,  True,  True,  True,  True,  True,  True,  True,  True]]]])\n"
     ]
    }
   ],
   "source": [
    "data = torch.randn(2, 10)\n",
    "custom_mask = torch.tensor(\n",
    "    [\n",
    "        [False, False, True, False, True, True, True, True, True, True],\n",
    "        [True, True, True, True, True, True, True, True, True, True],\n",
    "    ]\n",
    ")\n",
    "print(transformer.generate_mask(data, custom_mask=custom_mask))\n",
    "# a = transformer.generate_mask(data, custom_mask=custom_mask)"
   ]
  },
  {
   "cell_type": "code",
   "execution_count": null,
   "metadata": {},
   "outputs": [],
   "source": []
  },
  {
   "cell_type": "code",
   "execution_count": null,
   "metadata": {},
   "outputs": [],
   "source": []
  }
 ],
 "metadata": {
  "kernelspec": {
   "display_name": "ML",
   "language": "python",
   "name": "python3"
  },
  "language_info": {
   "codemirror_mode": {
    "name": "ipython",
    "version": 3
   },
   "file_extension": ".py",
   "mimetype": "text/x-python",
   "name": "python",
   "nbconvert_exporter": "python",
   "pygments_lexer": "ipython3",
   "version": "3.10.12"
  }
 },
 "nbformat": 4,
 "nbformat_minor": 2
}
